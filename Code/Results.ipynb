{
 "cells": [
  {
   "cell_type": "code",
   "execution_count": 1,
   "metadata": {},
   "outputs": [],
   "source": [
    "from sklearn.naive_bayes import MultinomialNB\n",
    "from sklearn.feature_extraction.text import TfidfTransformer\n",
    "from sklearn.feature_extraction.text import CountVectorizer\n",
    "from sklearn.model_selection import train_test_split\n",
    "from sklearn.pipeline import Pipeline\n",
    "from sklearn.metrics import accuracy_score\n",
    "from sklearn import linear_model\n",
    "%matplotlib inline\n",
    "import numpy as np\n",
    "import matplotlib.pyplot as plt\n",
    "import pandas as pd"
   ]
  },
  {
   "cell_type": "code",
   "execution_count": 5,
   "metadata": {},
   "outputs": [],
   "source": [
    "realData = pd.read_csv(\"Data/RealData.csv\")"
   ]
  },
  {
   "cell_type": "code",
   "execution_count": null,
   "metadata": {},
   "outputs": [],
   "source": [
    "#Multinomial Naive Bayes Classifier\n",
    "regularizers = [0.1, 0.2, 0.3, 0.4, 0.5, 0.6, 0.7, 0.8, 0.9, 1]\n",
    "testAcc= np.zeros(len(regularizers))\n",
    "trainAcc = np.zeros(len(regularizers))\n",
    "index=0\n",
    "X = realData[\"Text\"]\n",
    "Y = realData[\"Class\"]\n",
    "trainX, testX, trainY, testY = train_test_split(X, Y, test_size = 0.25, random_state=1)\n",
    "for A in regularizers:\n",
    "    text_clf = Pipeline([\n",
    "         ('vect', CountVectorizer()),\n",
    "         ('tfidf', TfidfTransformer()),\n",
    "         ('clf', MultinomialNB(alpha=A))])\n",
    "    clf = text_clf.fit(trainX, trainY)\n",
    "    Y_predTrain = text_clf.predict(trainX)\n",
    "    Y_predTest = text_clf.predict(testX)\n",
    "    trainAcc[index] = accuracy_score(trainY, Y_predTrain)\n",
    "    testAcc[index] = accuracy_score(testY, Y_predTest)\n",
    "    index += 1\n",
    "plt.plot(regularizers, trainAcc, 'ro--', regularizers, testAcc, 'bv-')\n",
    "plt.xlabel('Regularizer (A)')\n",
    "plt.ylabel('Accuracy')\n",
    "plt.title('Naive Bayes')\n",
    "plt.legend(['Validation','Testing'])\n",
    "MNBacc = max(testAcc)\n",
    "print(\"Max Test Accuracy:\", MNBacc)\n",
    "MNBregmax = regularizers[np.argmax(testAcc)]\n",
    "print(\"Max Accuracy Parameter: \", MNBregmax)"
   ]
  },
  {
   "cell_type": "code",
   "execution_count": null,
   "metadata": {},
   "outputs": [],
   "source": [
    "# Logistic Regression\n",
    "regularizers = [0.1, 0.2, 0.3, 0.4, 0.5, 0.6, 0.7, 0.8, 0.9, 1.0]\n",
    "testAcc= np.zeros(len(regularizers))\n",
    "trainAcc = np.zeros(len(regularizers))\n",
    "index=0\n",
    "X = realData[\"Text\"]\n",
    "Y = realData[\"Class\"]\n",
    "trainX, testX, trainY, testY = train_test_split(X, Y, test_size = 0.25, random_state=1)\n",
    "\n",
    "for C in regularizers:\n",
    "    text_clf = Pipeline([\n",
    "     ('vect', CountVectorizer()),\n",
    "     ('tfidf', TfidfTransformer()),\n",
    "     ('clf', linear_model.LogisticRegression(C=C, penalty='l1', solver='liblinear'))])\n",
    "    clf = text_clf.fit(trainX, trainY)\n",
    "    Y_predTrain = text_clf.predict(trainX)\n",
    "    Y_predTest = text_clf.predict(testX)\n",
    "    trainAcc[index] = accuracy_score(trainY, Y_predTrain)\n",
    "    testAcc[index] = accuracy_score(testY, Y_predTest)\n",
    "    index += 1\n",
    "plt.plot(regularizers, trainAcc, 'ro--', regularizers, testAcc, 'bv-')\n",
    "plt.xlabel('Regularizer (C)')\n",
    "plt.ylabel('Accuracy')\n",
    "plt.title('Logistic regression')\n",
    "plt.legend(['Validation','Testing'])\n",
    "LRacc = max(testAcc)\n",
    "print(\"Max Test Accuracy:\", LRacc)\n",
    "LRregmax = regularizers[np.argmax(testAcc)]\n",
    "print(\"Max Accuracy Parameter: \", LRregmax)"
   ]
  },
  {
   "cell_type": "code",
   "execution_count": null,
   "metadata": {},
   "outputs": [],
   "source": [
    "accuracy = pd.DataFrame({\"Accuracy\" : [MNBacc, LRacc], \"Parameter\" : [MNBregmax, LRregmax]}, index=[\"Multinomial Naive Bayes\", \"Linear Regression\"])\n",
    "accuracy"
   ]
  },
  {
   "cell_type": "code",
   "execution_count": null,
   "metadata": {},
   "outputs": [],
   "source": [
    "text_clf = Pipeline([\n",
    "         ('vect', CountVectorizer()),\n",
    "         ('tfidf', TfidfTransformer()),\n",
    "         ('clf', MultinomialNB(alpha=MNBregmax))])\n",
    "MNBclf = text_clf.fit(trainX, trainY)\n",
    "text_clf = Pipeline([\n",
    "     ('vect', CountVectorizer()),\n",
    "     ('tfidf', TfidfTransformer()),\n",
    "     ('clf', linear_model.LogisticRegression(C=LRregmax, penalty='l1', solver='liblinear'))])\n",
    "LRclf = text_clf.fit(trainX, trainY)"
   ]
  },
  {
   "cell_type": "code",
   "execution_count": null,
   "metadata": {},
   "outputs": [],
   "source": [
    "print(\"Number of features: \", MNBclf['clf'].feature_count_.size)\n",
    "print(\"Intercept: \", MNBclf['clf'].intercept_)\n",
    "feature_names = MNBclf['vect'].get_feature_names()\n",
    "coefs_with_fnstop = sorted(zip(MNBclf['clf'].feature_log_prob_[0], feature_names))\n",
    "coefs_with_fnsbot = sorted(zip(MNBclf['clf'].feature_log_prob_[1], feature_names))\n",
    "top = zip(coefs_with_fnsbot[:-(20 + 1):-1], coefs_with_fnstop[:-(20 + 1):-1])\n",
    "for (coef_1, fn_1), (coef_2, fn_2) in top:\n",
    "    print(coef_1, fn_1, coef_2, fn_2)"
   ]
  },
  {
   "cell_type": "code",
   "execution_count": null,
   "metadata": {},
   "outputs": [],
   "source": [
    "print(\"Number of features: \", LRclf['clf'].coef_.size)\n",
    "print(\"Intercept :\" ,LRclf['clf'].intercept_)\n",
    "feature_names = LRclf['vect'].get_feature_names()\n",
    "coefs_with_fns = sorted(zip(LRclf['clf'].coef_[0], feature_names))\n",
    "\n",
    "top = zip(coefs_with_fns[:20], coefs_with_fns[:-(20 + 1):-1])\n",
    "for (coef_1, fn_1), (coef_2, fn_2) in top:\n",
    "    print(coef_1, fn_1, coef_2, fn_2)"
   ]
  },
  {
   "cell_type": "code",
   "execution_count": 6,
   "metadata": {},
   "outputs": [
    {
     "data": {
      "image/png": "[encoded data removed]",
      "text/plain": [
       "<Figure size 864x576 with 1 Axes>"
      ]
     },
     "metadata": {
      "needs_background": "light"
     },
     "output_type": "display_data"
    }
   ],
   "source": [
    "data = pd.read_excel(\"Data/PytesseractStringRatingComplete.xlsx\")\n",
    "#data[\"Rating\"].value_counts().plot(kind='bar')\n",
    "\n",
    "plt.figure(figsize=(12,8))\n",
    "ax = data[\"Rating\"].value_counts().plot(kind='bar')\n",
    "labels = data[\"Rating\"].value_counts()\n",
    "ax.set_title(\"Pytesseract String Ratings\")\n",
    "ax.set_xlabel(\"Rating\")\n",
    "ax.set_ylabel(\"Frequency\")\n",
    "rects = ax.patches\n",
    "ax.set_xticklabels([\"Excellent\", \"Good\", \"Poor\"])\n",
    "for rect, labels in zip(rects, labels):\n",
    "    height = rect.get_height()\n",
    "    ax.text(rect.get_x() + rect.get_width() / 2, height + 0.5, labels, ha=\"center\", va='bottom')"
   ]
  }
 ],
 "metadata": {
  "kernelspec": {
   "display_name": "Python 3",
   "language": "python",
   "name": "python3"
  },
  "language_info": {
   "codemirror_mode": {
    "name": "ipython",
    "version": 3
   },
   "file_extension": ".py",
   "mimetype": "text/x-python",
   "name": "python",
   "nbconvert_exporter": "python",
   "pygments_lexer": "ipython3",
   "version": "3.7.3"
  }
 },
 "nbformat": 4,
 "nbformat_minor": 2
}
