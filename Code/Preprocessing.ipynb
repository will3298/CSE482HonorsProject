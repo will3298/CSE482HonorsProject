{
 "cells": [
  {
   "cell_type": "code",
   "execution_count": 1,
   "metadata": {},
   "outputs": [],
   "source": [
    "%matplotlib inline\n",
    "import numpy as np\n",
    "import matplotlib.pyplot as plt\n",
    "import matplotlib.image as mpimg\n",
    "from PIL import Image\n",
    "import os\n",
    "import pandas as pd\n",
    "import time\n",
    "import cv2\n",
    "import pytesseract\n",
    "from os import path\n",
    "from IPython.display import clear_output\n",
    "pytesseract.pytesseract.tesseract_cmd = r'C:/Program Files/Tesseract-OCR/tesseract.exe'"
   ]
  },
  {
   "cell_type": "code",
   "execution_count": 2,
   "metadata": {},
   "outputs": [
    {
     "data": {
      "text/html": [
       "<div>\n",
       "<style scoped>\n",
       "    .dataframe tbody tr th:only-of-type {\n",
       "        vertical-align: middle;\n",
       "    }\n",
       "\n",
       "    .dataframe tbody tr th {\n",
       "        vertical-align: top;\n",
       "    }\n",
       "\n",
       "    .dataframe thead th {\n",
       "        text-align: right;\n",
       "    }\n",
       "</style>\n",
       "<table border=\"1\" class=\"dataframe\">\n",
       "  <thead>\n",
       "    <tr style=\"text-align: right;\">\n",
       "      <th></th>\n",
       "      <th>File</th>\n",
       "      <th>Text</th>\n",
       "      <th>Class</th>\n",
       "    </tr>\n",
       "  </thead>\n",
       "  <tbody>\n",
       "    <tr>\n",
       "      <td>0</td>\n",
       "      <td>cdcglobal-20170120-514+BPfN66MlEgc+-1.jpg</td>\n",
       "      <td>The world is more\\n\\nconnected than in\\n\\nany ...</td>\n",
       "      <td>Pro</td>\n",
       "    </tr>\n",
       "    <tr>\n",
       "      <td>1</td>\n",
       "      <td>cdcglobal-20170203-503+BQD_bDngXHk+-1.jpg</td>\n",
       "      <td>FEBRUARY 4\\n\\nTHE GLOBAL CANCER EPIDEMIC\\nCONT...</td>\n",
       "      <td>Pro</td>\n",
       "    </tr>\n",
       "    <tr>\n",
       "      <td>2</td>\n",
       "      <td>cdcglobal-20170204-502+BQGBCsaA9We+-1.jpg</td>\n",
       "      <td>As a global public health community we can wor...</td>\n",
       "      <td>Pro</td>\n",
       "    </tr>\n",
       "    <tr>\n",
       "      <td>3</td>\n",
       "      <td>cdcglobal-20170322-472+BR8UovohX6R+-1.jpg</td>\n",
       "      <td>OVER 80% OF OUR WASTEWATER\\nFLOWS BACK TO NATU...</td>\n",
       "      <td>Pro</td>\n",
       "    </tr>\n",
       "    <tr>\n",
       "      <td>4</td>\n",
       "      <td>cdcglobal-20170420-448+BTHGEW6B2hj+-1.jpg</td>\n",
       "      <td>( More than\\n\\n(m1) 88 0e)\\\\n\\npeople are affe...</td>\n",
       "      <td>Pro</td>\n",
       "    </tr>\n",
       "  </tbody>\n",
       "</table>\n",
       "</div>"
      ],
      "text/plain": [
       "                                        File  \\\n",
       "0  cdcglobal-20170120-514+BPfN66MlEgc+-1.jpg   \n",
       "1  cdcglobal-20170203-503+BQD_bDngXHk+-1.jpg   \n",
       "2  cdcglobal-20170204-502+BQGBCsaA9We+-1.jpg   \n",
       "3  cdcglobal-20170322-472+BR8UovohX6R+-1.jpg   \n",
       "4  cdcglobal-20170420-448+BTHGEW6B2hj+-1.jpg   \n",
       "\n",
       "                                                Text Class  \n",
       "0  The world is more\\n\\nconnected than in\\n\\nany ...   Pro  \n",
       "1  FEBRUARY 4\\n\\nTHE GLOBAL CANCER EPIDEMIC\\nCONT...   Pro  \n",
       "2  As a global public health community we can wor...   Pro  \n",
       "3  OVER 80% OF OUR WASTEWATER\\nFLOWS BACK TO NATU...   Pro  \n",
       "4  ( More than\\n\\n(m1) 88 0e)\\\\n\\npeople are affe...   Pro  "
      ]
     },
     "execution_count": 2,
     "metadata": {},
     "output_type": "execute_result"
    }
   ],
   "source": [
    "# This process takes a long time to run\n",
    "words = []\n",
    "label = []\n",
    "filenames = []\n",
    "# Pro pool\n",
    "for file in os.listdir(\"images/nonanti_pool_63432\"):\n",
    "    start, end = os.path.splitext(file)\n",
    "    if end == \".txt\":\n",
    "        os.remove(\"images/nonanti_pool_63432/\"+file) # Remove text files from data folder\n",
    "    else:\n",
    "        imagepath = \"images/nonanti_pool_63432/\"+file\n",
    "        image = cv2.imread(imagepath)\n",
    "        gray = cv2.cvtColor(image, cv2.COLOR_BGR2GRAY)\n",
    "        gray = cv2.medianBlur(gray, 3)\n",
    "        newimage = \"greyimage.png\"\n",
    "        cv2.imwrite(newimage, gray)\n",
    "        text = pytesseract.image_to_string(Image.open(newimage))\n",
    "        # Uncomment these lines to show each image and its respective text\n",
    "        #plt.figure()\n",
    "        #plt.imshow(gray, cmap='gray')\n",
    "        #plt.show()\n",
    "        #print(text)\n",
    "        if text != \"\":\n",
    "            words.append(text)\n",
    "            label.append(\"Pro\")\n",
    "            filenames.append(file)\n",
    "\n",
    "# Anti pool\n",
    "for file in os.listdir(\"images/anti_pool_61696\"):\n",
    "    start, end = os.path.splitext(file)\n",
    "    if end == \".txt\":\n",
    "        os.remove(\"images/anti_pool_61696/\"+file) # Remove text files from data folder\n",
    "    else:\n",
    "        imagepath = \"images/anti_pool_61696/\"+file\n",
    "        image = cv2.imread(imagepath)\n",
    "        gray = cv2.cvtColor(image, cv2.COLOR_BGR2GRAY)\n",
    "        gray = cv2.medianBlur(gray, 3)\n",
    "        newimage = \"greyimage.png\"\n",
    "        cv2.imwrite(newimage, gray)\n",
    "        text = pytesseract.image_to_string(Image.open(newimage))\n",
    "        # Uncomment these lines to show each image and its respective text\n",
    "        #plt.figure()\n",
    "        #plt.imshow(gray, cmap='gray')\n",
    "        #plt.show()\n",
    "        #print(text)\n",
    "        if text != \"\":\n",
    "            words.append(text)\n",
    "            label.append(\"Anti\")\n",
    "            filenames.append(file)\n",
    "            \n",
    "realData = pd.DataFrame({\"File\":filenames, \"Text\":words, \"Class\":label})\n",
    "realData.head()"
   ]
  },
  {
   "cell_type": "code",
   "execution_count": 3,
   "metadata": {},
   "outputs": [],
   "source": [
    "#realData.to_csv(\"RealData.csv\")"
   ]
  },
  {
   "cell_type": "code",
   "execution_count": 2,
   "metadata": {},
   "outputs": [
    {
     "data": {
      "text/plain": [
       "(4136, 4)"
      ]
     },
     "execution_count": 2,
     "metadata": {},
     "output_type": "execute_result"
    }
   ],
   "source": [
    "realData = pd.read_csv(\"RealData.csv\")\n",
    "realData.head()\n",
    "realData.shape"
   ]
  },
  {
   "cell_type": "code",
   "execution_count": 3,
   "metadata": {},
   "outputs": [
    {
     "name": "stdout",
     "output_type": "stream",
     "text": [
      "PyTesseract Output: \n",
      "WHEN SOMEONE SAYS THE GOVERNMENT\n",
      "\n",
      "LIES ABOUT EVERYTHING BUT WOULDN'T\n",
      "LIE ABOUT THE SHAPE OF THE EARTH\n"
     ]
    }
   ],
   "source": [
    "# Code to perform manual pytesseract accuracy test of 100 random images, 50 pro, 50 anti\n",
    "ProPool = realData[realData[\"Class\"] == \"Pro\"].sample(50, random_state = 3)\n",
    "AntiPool = realData[realData[\"Class\"] ==  \"Anti\"].sample(50, random_state=3)\n",
    "pool = ProPool.append(AntiPool)\n",
    "pytext = []\n",
    "\n",
    "for file in pool[\"File\"]:\n",
    "    imagepath = \"images/nonanti_pool_63432/\"+file\n",
    "    if not path.exists(imagepath):\n",
    "        imagepath = \"images/anti_pool_61696/\"+file\n",
    "    image = cv2.imread(imagepath)\n",
    "    gray = cv2.cvtColor(image, cv2.COLOR_BGR2GRAY)\n",
    "    gray = cv2.medianBlur(gray, 3)\n",
    "    newimage = \"greyimage.png\"\n",
    "    cv2.imwrite(newimage, gray)\n",
    "    text = pytesseract.image_to_string(Image.open(newimage))\n",
    "    #plt.figure(figsize=(10,10))\n",
    "    #plt.clf()\n",
    "    #plt.imshow(gray, cmap='gray')\n",
    "    #plt.show()\n",
    "    print(\"PyTesseract Output: \\n\" + text)\n",
    "    pytext.append(text)\n",
    "    #input(\"Press Enter When Ready\")\n",
    "    clear_output(wait=True)"
   ]
  },
  {
   "cell_type": "code",
   "execution_count": 4,
   "metadata": {},
   "outputs": [],
   "source": [
    "paths = []\n",
    "\n",
    "for file in pool[\"File\"]:\n",
    "    imagepath = \"images/nonanti_pool_63432/\"+file\n",
    "    if not path.exists(imagepath):\n",
    "        imagepath = \"images/anti_pool_61696/\"+file\n",
    "    paths.append(imagepath)"
   ]
  },
  {
   "cell_type": "code",
   "execution_count": 5,
   "metadata": {},
   "outputs": [
    {
     "data": {
      "text/html": [
       "<div>\n",
       "<style scoped>\n",
       "    .dataframe tbody tr th:only-of-type {\n",
       "        vertical-align: middle;\n",
       "    }\n",
       "\n",
       "    .dataframe tbody tr th {\n",
       "        vertical-align: top;\n",
       "    }\n",
       "\n",
       "    .dataframe thead th {\n",
       "        text-align: right;\n",
       "    }\n",
       "</style>\n",
       "<table border=\"1\" class=\"dataframe\">\n",
       "  <thead>\n",
       "    <tr style=\"text-align: right;\">\n",
       "      <th></th>\n",
       "      <th>Actual String</th>\n",
       "      <th>TesseractResult</th>\n",
       "      <th>ImagePath</th>\n",
       "    </tr>\n",
       "  </thead>\n",
       "  <tbody>\n",
       "    <tr>\n",
       "      <td>0</td>\n",
       "      <td>Are you a pleural effusion? Because I can't br...</td>\n",
       "      <td>OAs SAV OOo Sa AMAA</td>\n",
       "      <td>images/nonanti_pool_63432/dr.majestic_md-20180...</td>\n",
       "    </tr>\n",
       "    <tr>\n",
       "      <td>1</td>\n",
       "      <td>My gynecologist follows me on instagram, I rea...</td>\n",
       "      <td>CoE Ear |]\\ny) @chashmaswag\\n\\nMy gynecologist...</td>\n",
       "      <td>images/nonanti_pool_63432/daily_medicine-20190...</td>\n",
       "    </tr>\n",
       "    <tr>\n",
       "      <td>2</td>\n",
       "      <td>You were born for greatness.</td>\n",
       "      <td>@schoolacceptance eon\\n\\nYou were born\\nfor gr...</td>\n",
       "      <td>images/nonanti_pool_63432/surviving.medicine-2...</td>\n",
       "    </tr>\n",
       "    <tr>\n",
       "      <td>3</td>\n",
       "      <td>Comment Below Your thought of the day</td>\n",
       "      <td>Oma</td>\n",
       "      <td>images/nonanti_pool_63432/daily_medicine-20180...</td>\n",
       "    </tr>\n",
       "    <tr>\n",
       "      <td>4</td>\n",
       "      <td>Diabetes except it doesn’t when will the sugar...</td>\n",
       "      <td>DIABETES:\\n\\nen\\n\\noe)\\n\\n \\n\\n“piictgdagn | t...</td>\n",
       "      <td>images/nonanti_pool_63432/drjoshuawolrich-2018...</td>\n",
       "    </tr>\n",
       "  </tbody>\n",
       "</table>\n",
       "</div>"
      ],
      "text/plain": [
       "                                       Actual String  \\\n",
       "0  Are you a pleural effusion? Because I can't br...   \n",
       "1  My gynecologist follows me on instagram, I rea...   \n",
       "2                       You were born for greatness.   \n",
       "3              Comment Below Your thought of the day   \n",
       "4  Diabetes except it doesn’t when will the sugar...   \n",
       "\n",
       "                                     TesseractResult  \\\n",
       "0                                OAs SAV OOo Sa AMAA   \n",
       "1  CoE Ear |]\\ny) @chashmaswag\\n\\nMy gynecologist...   \n",
       "2  @schoolacceptance eon\\n\\nYou were born\\nfor gr...   \n",
       "3                                                Oma   \n",
       "4  DIABETES:\\n\\nen\\n\\noe)\\n\\n \\n\\n“piictgdagn | t...   \n",
       "\n",
       "                                           ImagePath  \n",
       "0  images/nonanti_pool_63432/dr.majestic_md-20180...  \n",
       "1  images/nonanti_pool_63432/daily_medicine-20190...  \n",
       "2  images/nonanti_pool_63432/surviving.medicine-2...  \n",
       "3  images/nonanti_pool_63432/daily_medicine-20180...  \n",
       "4  images/nonanti_pool_63432/drjoshuawolrich-2018...  "
      ]
     },
     "execution_count": 5,
     "metadata": {},
     "output_type": "execute_result"
    }
   ],
   "source": [
    "pystrings = pd.read_excel(\"PyTesseractStringRating.xlsx\")\n",
    "pystrings[\"TesseractResult\"] = pd.Series(pytext)\n",
    "pystrings[\"ImagePath\"] = pd.Series(paths)\n",
    "pystrings.head()\n",
    "#pystrings.to_excel(\"PytesseractStringRatingComplete.xlsx\")"
   ]
  },
  {
   "cell_type": "code",
   "execution_count": null,
   "metadata": {},
   "outputs": [
    {
     "name": "stdout",
     "output_type": "stream",
     "text": [
      "Actual String:  Are you a pleural effusion? Because I can't breathe when you're around\n",
      "\n",
      "\n",
      "Pytesseract String:  OAs SAV OOo Sa AMAA\n"
     ]
    }
   ],
   "source": [
    "data = pystrings\n",
    "ratings = []\n",
    "for i in range(data[\"Actual String\"].size):\n",
    "    print(\"Actual String: \", data[\"Actual String\"][i])\n",
    "    print(\"\\n\")\n",
    "    print(\"Pytesseract String: \", data[\"TesseractResult\"][i])\n",
    "    ratings.append(input(\"Rating: \"))\n",
    "    clear_output(wait=True)\n",
    "    \n",
    "data[\"Rating\"] = pd.Series(ratings)\n",
    "#data.to_excel(\"PytesseractStringRatingComplete.xlsx\")"
   ]
  }
 ],
 "metadata": {
  "kernelspec": {
   "display_name": "Python 3",
   "language": "python",
   "name": "python3"
  },
  "language_info": {
   "codemirror_mode": {
    "name": "ipython",
    "version": 3
   },
   "file_extension": ".py",
   "mimetype": "text/x-python",
   "name": "python",
   "nbconvert_exporter": "python",
   "pygments_lexer": "ipython3",
   "version": "3.7.3"
  }
 },
 "nbformat": 4,
 "nbformat_minor": 2
}
